{
 "cells": [
  {
   "cell_type": "markdown",
   "metadata": {
    "tags": [
     "pdf-title"
    ]
   },
   "source": [
    "# Softmax exercise\n",
    "\n",
    "*Complete and hand in this completed worksheet (including its outputs and any supporting code outside of the worksheet) with your assignment submission. For more details see the course website.*\n",
    "\n",
    "This exercise is analogous to the SVM exercise. You will:\n",
    "\n",
    "- implement a fully-vectorized **loss function** for the Softmax classifier\n",
    "- implement the fully-vectorized expression for its **analytic gradient**\n",
    "- **check your implementation** with numerical gradient\n",
    "- use a validation set to **tune the learning rate and regularization** strengths\n",
    "- **optimize** the loss function with **SGD**\n",
    "- **visualize** the final learned weights\n"
   ]
  },
  {
   "cell_type": "code",
   "execution_count": 6,
   "metadata": {
    "tags": [
     "pdf-ignore"
    ]
   },
   "outputs": [
    {
     "name": "stdout",
     "output_type": "stream",
     "text": [
      "The autoreload extension is already loaded. To reload it, use:\n",
      "  %reload_ext autoreload\n"
     ]
    }
   ],
   "source": [
    "import random\n",
    "import numpy as np\n",
    "from comp411.data_utils import load_CIFAR10\n",
    "import matplotlib.pyplot as plt\n",
    "\n",
    "%matplotlib inline\n",
    "plt.rcParams['figure.figsize'] = (10.0, 8.0) # set default size of plots\n",
    "plt.rcParams['image.interpolation'] = 'nearest'\n",
    "plt.rcParams['image.cmap'] = 'gray'\n",
    "\n",
    "# for auto-reloading extenrnal modules\n",
    "# see http://stackoverflow.com/questions/1907993/autoreload-of-modules-in-ipython\n",
    "%load_ext autoreload\n",
    "%autoreload 2"
   ]
  },
  {
   "cell_type": "code",
   "execution_count": 7,
   "metadata": {
    "tags": [
     "pdf-ignore"
    ]
   },
   "outputs": [
    {
     "name": "stdout",
     "output_type": "stream",
     "text": [
      "Train data shape:  (49000, 3073)\n",
      "Train labels shape:  (49000,)\n",
      "Validation data shape:  (1000, 3073)\n",
      "Validation labels shape:  (1000,)\n",
      "Test data shape:  (1000, 3073)\n",
      "Test labels shape:  (1000,)\n",
      "dev data shape:  (500, 3073)\n",
      "dev labels shape:  (500,)\n"
     ]
    }
   ],
   "source": [
    "def get_CIFAR10_data(num_training=49000, num_validation=1000, num_test=1000, num_dev=500):\n",
    "    \"\"\"\n",
    "    Load the CIFAR-10 dataset from disk and perform preprocessing to prepare\n",
    "    it for the linear classifier. These are the same steps as we used for the\n",
    "    SVM, but condensed to a single function.  \n",
    "    \"\"\"\n",
    "    # Load the raw CIFAR-10 data\n",
    "    cifar10_dir = 'comp411/datasets/cifar-10-batches-py'\n",
    "    \n",
    "    # Cleaning up variables to prevent loading data multiple times (which may cause memory issue)\n",
    "    try:\n",
    "       del X_train, y_train\n",
    "       del X_test, y_test\n",
    "       print('Clear previously loaded data.')\n",
    "    except:\n",
    "       pass\n",
    "\n",
    "    X_train, y_train, X_test, y_test = load_CIFAR10(cifar10_dir)\n",
    "    \n",
    "    # subsample the data\n",
    "    mask = list(range(num_training, num_training + num_validation))\n",
    "    X_val = X_train[mask]\n",
    "    y_val = y_train[mask]\n",
    "    mask = list(range(num_training))\n",
    "    X_train = X_train[mask]\n",
    "    y_train = y_train[mask]\n",
    "    mask = list(range(num_test))\n",
    "    X_test = X_test[mask]\n",
    "    y_test = y_test[mask]\n",
    "    mask = np.random.choice(num_training, num_dev, replace=False)\n",
    "    X_dev = X_train[mask]\n",
    "    y_dev = y_train[mask]\n",
    "    \n",
    "    # Preprocessing: reshape the image data into rows\n",
    "    X_train = np.reshape(X_train, (X_train.shape[0], -1))\n",
    "    X_val = np.reshape(X_val, (X_val.shape[0], -1))\n",
    "    X_test = np.reshape(X_test, (X_test.shape[0], -1))\n",
    "    X_dev = np.reshape(X_dev, (X_dev.shape[0], -1))\n",
    "    \n",
    "    # Normalize the data: subtract the mean image\n",
    "    mean_image = np.mean(X_train, axis = 0)\n",
    "    X_train -= mean_image\n",
    "    X_val -= mean_image\n",
    "    X_test -= mean_image\n",
    "    X_dev -= mean_image\n",
    "    \n",
    "    # add bias dimension and transform into columns\n",
    "    X_train = np.hstack([X_train, np.ones((X_train.shape[0], 1))])\n",
    "    X_val = np.hstack([X_val, np.ones((X_val.shape[0], 1))])\n",
    "    X_test = np.hstack([X_test, np.ones((X_test.shape[0], 1))])\n",
    "    X_dev = np.hstack([X_dev, np.ones((X_dev.shape[0], 1))])\n",
    "    \n",
    "    return X_train, y_train, X_val, y_val, X_test, y_test, X_dev, y_dev\n",
    "\n",
    "\n",
    "# Invoke the above function to get our data.\n",
    "X_train, y_train, X_val, y_val, X_test, y_test, X_dev, y_dev = get_CIFAR10_data()\n",
    "print('Train data shape: ', X_train.shape)\n",
    "print('Train labels shape: ', y_train.shape)\n",
    "print('Validation data shape: ', X_val.shape)\n",
    "print('Validation labels shape: ', y_val.shape)\n",
    "print('Test data shape: ', X_test.shape)\n",
    "print('Test labels shape: ', y_test.shape)\n",
    "print('dev data shape: ', X_dev.shape)\n",
    "print('dev labels shape: ', y_dev.shape)"
   ]
  },
  {
   "cell_type": "markdown",
   "metadata": {},
   "source": [
    "## Softmax Classifier\n",
    "\n",
    "Your code for this section will all be written inside **comp411/classifiers/softmax.py**. \n"
   ]
  },
  {
   "cell_type": "code",
   "execution_count": 8,
   "metadata": {},
   "outputs": [
    {
     "name": "stdout",
     "output_type": "stream",
     "text": [
      "loss: 2.351693\n",
      "sanity check: 2.302585\n"
     ]
    }
   ],
   "source": [
    "# First implement the naive softmax loss function with nested loops.\n",
    "# Open the file comp411/classifiers/softmax.py and implement the\n",
    "# softmax_loss_naive function.\n",
    "\n",
    "from comp411.classifiers.softmax import softmax_loss_naive\n",
    "import time\n",
    "\n",
    "# Generate a random softmax weight matrix and use it to compute the loss.\n",
    "W = np.random.randn(3073, 10) * 0.0001\n",
    "loss, grad = softmax_loss_naive(W, X_dev, y_dev, 0.0, 0.0)\n",
    "\n",
    "# As a rough sanity check, our loss should be something close to -log(0.1).\n",
    "print('loss: %f' % loss)\n",
    "print('sanity check: %f' % (-np.log(0.1)))"
   ]
  },
  {
   "cell_type": "markdown",
   "metadata": {
    "tags": [
     "pdf-inline"
    ]
   },
   "source": [
    "**Inline Question 1**\n",
    "\n",
    "Why do we expect our loss to be close to -log(0.1)? Explain briefly.**\n",
    "\n",
    "$\\color{blue}{\\textit Your Answer:}$ Since we randomly initiate weight, it is similar to randomly choose one of the 10 group. As a result, the loss will be eqaul to -log(probability of the correct guess)=-log(0.1)\n"
   ]
  },
  {
   "cell_type": "code",
   "execution_count": 13,
   "metadata": {},
   "outputs": [
    {
     "name": "stdout",
     "output_type": "stream",
     "text": [
      "numerical: 0.790979 analytic: 0.790979, relative error: 2.661580e-08\n",
      "numerical: -0.137682 analytic: -0.137683, relative error: 2.944916e-07\n",
      "numerical: -3.436647 analytic: -3.436647, relative error: 1.550919e-08\n",
      "numerical: 1.887141 analytic: 1.887141, relative error: 9.376245e-09\n",
      "numerical: 1.685151 analytic: 1.685151, relative error: 4.566323e-08\n",
      "numerical: -0.105471 analytic: -0.105471, relative error: 4.107090e-07\n",
      "numerical: 0.707347 analytic: 0.707347, relative error: 8.787636e-08\n",
      "numerical: -1.634466 analytic: -1.634466, relative error: 2.270927e-08\n",
      "numerical: -0.126700 analytic: -0.126700, relative error: 2.161791e-07\n",
      "numerical: 2.340018 analytic: 2.340018, relative error: 7.458612e-09\n",
      "numerical: -2.621550 analytic: -2.622050, relative error: 9.535526e-05\n",
      "numerical: 1.936918 analytic: 1.937418, relative error: 1.290536e-04\n",
      "numerical: -2.153765 analytic: -2.154265, relative error: 1.160687e-04\n",
      "numerical: -0.782997 analytic: -0.782997, relative error: 4.828738e-08\n",
      "numerical: -1.254197 analytic: -1.253897, relative error: 1.195567e-04\n",
      "numerical: 3.409385 analytic: 3.409885, relative error: 7.330276e-05\n",
      "numerical: -3.393061 analytic: -3.393561, relative error: 7.368582e-05\n",
      "numerical: 0.830047 analytic: 0.829547, relative error: 3.012964e-04\n",
      "numerical: 2.015671 analytic: 2.015171, relative error: 1.240671e-04\n",
      "numerical: -1.529060 analytic: -1.529560, relative error: 1.634783e-04\n"
     ]
    }
   ],
   "source": [
    "# Complete the implementation of softmax_loss_naive and implement a (naive)\n",
    "# version of the gradient that uses nested loops.\n",
    "loss, grad = softmax_loss_naive(W, X_dev, y_dev, 0.0, 0.0)\n",
    "\n",
    "# As we did for the SVM, use numeric gradient checking as a debugging tool.\n",
    "# The numeric gradient should be close to the analytic gradient.\n",
    "from tkinter.filedialog import SaveFileDialog\n",
    "from comp411.gradient_check import grad_check_sparse\n",
    "f = lambda w: softmax_loss_naive(w, X_dev, y_dev, 0.0, 0.0)[0]\n",
    "grad_numerical = grad_check_sparse(f, W, grad, 10)\n",
    " \n",
    "# similar to SVM case, do another gradient check with regularizations\n",
    "loss, grad = softmax_loss_naive(W, X_dev, y_dev, 5e1, 5e-4)\n",
    "f = lambda w: softmax_loss_naive(w, X_dev, y_dev, 5e1, 5e-4)[0]\n",
    "grad_numerical = grad_check_sparse(f, W, grad, 10)"
   ]
  },
  {
   "cell_type": "code",
   "execution_count": 15,
   "metadata": {},
   "outputs": [
    {
     "name": "stdout",
     "output_type": "stream",
     "text": [
      "naive loss: 2.351694e+00 computed in 0.229553s\n",
      "vectorized loss: 2.351694e+00 computed in 0.002885s\n",
      "Loss difference: 0.000000\n",
      "Gradient difference: 0.000000\n"
     ]
    }
   ],
   "source": [
    "# Now that we have a naive implementation of the softmax loss function and its gradient,\n",
    "# implement a vectorized version in softmax_loss_vectorized.\n",
    "# The two versions should compute the same results, but the vectorized version should be\n",
    "# much faster.\n",
    "tic = time.time()\n",
    "loss_naive, grad_naive = softmax_loss_naive(W, X_dev, y_dev, 0.000005, 0.000005)\n",
    "toc = time.time()\n",
    "print('naive loss: %e computed in %fs' % (loss_naive, toc - tic))\n",
    "\n",
    "from comp411.classifiers.softmax import softmax_loss_vectorized\n",
    "tic = time.time()\n",
    "loss_vectorized, grad_vectorized = softmax_loss_vectorized(W, X_dev, y_dev, 0.000005, 0.000005)\n",
    "toc = time.time()\n",
    "print('vectorized loss: %e computed in %fs' % (loss_vectorized, toc - tic))\n",
    "\n",
    "# As we did for the SVM, we use the Frobenius norm to compare the two versions\n",
    "# of the gradient.\n",
    "grad_difference = np.linalg.norm(grad_naive - grad_vectorized, ord='fro')\n",
    "print('Loss difference: %f' % np.abs(loss_naive - loss_vectorized))\n",
    "print('Gradient difference: %f' % grad_difference)"
   ]
  },
  {
   "cell_type": "code",
   "execution_count": 28,
   "metadata": {
    "tags": [
     "code"
    ]
   },
   "outputs": [
    {
     "name": "stdout",
     "output_type": "stream",
     "text": [
      "lr 1.000000e-07 rg_l2 2.000000e+02 rg_l1 0.000000e+00 train accuracy: 0.252265 val accuracy: 0.257000\n",
      "lr 1.000000e-07 rg_l2 2.000000e+02 rg_l1 1.000000e-05 train accuracy: 0.250061 val accuracy: 0.249000\n",
      "lr 1.000000e-07 rg_l2 2.000000e+02 rg_l1 1.000000e-02 train accuracy: 0.251082 val accuracy: 0.252000\n",
      "lr 1.000000e-07 rg_l2 2.000000e+02 rg_l1 2.500000e+02 train accuracy: 0.152551 val accuracy: 0.143000\n",
      "lr 1.000000e-07 rg_l2 2.500000e+04 rg_l1 0.000000e+00 train accuracy: 0.329673 val accuracy: 0.348000\n",
      "lr 1.000000e-07 rg_l2 2.500000e+04 rg_l1 1.000000e-05 train accuracy: 0.326592 val accuracy: 0.343000\n",
      "lr 1.000000e-07 rg_l2 2.500000e+04 rg_l1 1.000000e-02 train accuracy: 0.326653 val accuracy: 0.350000\n",
      "lr 1.000000e-07 rg_l2 2.500000e+04 rg_l1 2.500000e+02 train accuracy: 0.233408 val accuracy: 0.225000\n",
      "lr 5.000000e-07 rg_l2 2.000000e+02 rg_l1 0.000000e+00 train accuracy: 0.336796 val accuracy: 0.354000\n",
      "lr 5.000000e-07 rg_l2 2.000000e+02 rg_l1 1.000000e-05 train accuracy: 0.336245 val accuracy: 0.353000\n",
      "lr 5.000000e-07 rg_l2 2.000000e+02 rg_l1 1.000000e-02 train accuracy: 0.336020 val accuracy: 0.330000\n",
      "lr 5.000000e-07 rg_l2 2.000000e+02 rg_l1 2.500000e+02 train accuracy: 0.153755 val accuracy: 0.160000\n",
      "lr 5.000000e-07 rg_l2 2.500000e+04 rg_l1 0.000000e+00 train accuracy: 0.330000 val accuracy: 0.350000\n",
      "lr 5.000000e-07 rg_l2 2.500000e+04 rg_l1 1.000000e-05 train accuracy: 0.317857 val accuracy: 0.337000\n",
      "lr 5.000000e-07 rg_l2 2.500000e+04 rg_l1 1.000000e-02 train accuracy: 0.322857 val accuracy: 0.336000\n",
      "lr 5.000000e-07 rg_l2 2.500000e+04 rg_l1 2.500000e+02 train accuracy: 0.283551 val accuracy: 0.305000\n",
      "best validation accuracy achieved during cross-validation: 0.354000\n"
     ]
    }
   ],
   "source": [
    "# Use the validation set to tune hyperparameters (regularization strength and\n",
    "# learning rate). You should experiment with different ranges for the learning\n",
    "# rates and regularization strengths; if you are careful you should be able to\n",
    "# get a classification accuracy of over 0.35 on the validation set.\n",
    "from comp411.classifiers import Softmax\n",
    "results = {}\n",
    "best_val = -1\n",
    "best_softmax = None\n",
    "\n",
    "################################################################################\n",
    "# TODO:                                                                        #\n",
    "# Use the validation set to set the learning rate and regularization strength. #\n",
    "# This should be similar to the validation that you did for the SVM; save      #\n",
    "# the best trained softmax classifer in best_softmax.                          #\n",
    "################################################################################\n",
    "\n",
    "# Provided as a reference. You may or may not want to change these hyperparameters\n",
    "learning_rates = [1e-7, 5e-7]\n",
    "regularization_strengths_l2 = [2.5e4,2e2]\n",
    "regularization_strengths_l1 = [0, 2.5e2,1e-5,1e-2]\n",
    "\n",
    "# *****START OF YOUR CODE (DO NOT DELETE/MODIFY THIS LINE)*****\n",
    "\n",
    "for lr in learning_rates:\n",
    "    for l2 in  regularization_strengths_l2:\n",
    "        for l1 in regularization_strengths_l1:\n",
    "  \n",
    "            classifier = Softmax()\n",
    "            classifier.train(X_train, y_train, learning_rate=lr, reg=l2,reg_l1=l1,num_iters=1500, verbose=False)\n",
    "                      \n",
    "            y_val_pred = classifier.predict(X_val)\n",
    "            y_train_pred = classifier.predict(X_train)\n",
    "            val_acc=np.mean(y_val == y_val_pred)\n",
    "            train_acc=np.mean(y_train == y_train_pred)\n",
    "            results[(lr,l2,l1)]=(train_acc,val_acc)\n",
    "            if (best_val<val_acc):\n",
    "                best_val=val_acc\n",
    "                best_softmax=classifier\n",
    "\n",
    "\n",
    "# *****END OF YOUR CODE (DO NOT DELETE/MODIFY THIS LINE)*****\n",
    "    \n",
    "# Print out results.\n",
    "for lr, rg_l2, rg_l1 in sorted(results):\n",
    "    train_accuracy, val_accuracy = results[(lr, rg_l2,rg_l1)]\n",
    "    print('lr %e rg_l2 %e rg_l1 %e train accuracy: %f val accuracy: %f' % (\n",
    "                lr, rg_l2, rg_l1, train_accuracy, val_accuracy))\n",
    "    \n",
    "print('best validation accuracy achieved during cross-validation: %f' % best_val)"
   ]
  },
  {
   "cell_type": "code",
   "execution_count": 29,
   "metadata": {},
   "outputs": [
    {
     "name": "stdout",
     "output_type": "stream",
     "text": [
      "softmax on raw pixels final test set accuracy: 0.340000\n"
     ]
    }
   ],
   "source": [
    "# evaluate on test set\n",
    "# Evaluate the best softmax on test set\n",
    "y_test_pred = best_softmax.predict(X_test)\n",
    "test_accuracy = np.mean(y_test == y_test_pred)\n",
    "print('softmax on raw pixels final test set accuracy: %f' % (test_accuracy, ))"
   ]
  },
  {
   "cell_type": "markdown",
   "metadata": {
    "tags": [
     "pdf-inline"
    ]
   },
   "source": [
    "**Inline Question 2** - *True or False*\n",
    "\n",
    "Suppose the overall training loss is defined as the sum of the per-datapoint loss over all training examples. It is possible to add a new datapoint to a training set that would leave the SVM loss unchanged, but this is not the case with the Softmax classifier loss.\n",
    "\n",
    "$\\color{blue}{\\textit Your Answer:}$ The statement is correct.\n",
    "\n",
    "\n",
    "$\\color{blue}{\\textit Your Explanation:}$\n",
    "\n",
    "In the SVM it is possible, since we can add instance such that the score of the highest guess is at least one value greater than the score of the others classes, in this case the training data does not effect the overall loss.\n",
    "\n",
    "We cannot add instance to traing data in the Softmax classifier and expect no change in the loss value. The addedd loss value is -log(p). we know that 0<p<1, as a result -log(p)>0, and since this is a positive value, it will increase the loss function.\n"
   ]
  },
  {
   "cell_type": "markdown",
   "metadata": {},
   "source": [
    "**Inline Question 3** \n",
    "\n",
    "Comment on the effects of unifying L1 and L2 losses while using Elastic Net Regularization Loss? Did L2 loss achieve better when used alone or not?\n",
    "\n",
    "$\\color{blue}{\\textit Your Comment:}$\n",
    "The point of using Regularizer is to avoid overfitting by finidng more simpler awnser. L2 harshly penalize large differences, and L1 acts as a feature selector, furthermore,  ElasticNet constrainit the space of the weight that our algorithm is trying to explore, which prevents from overfitting. \n",
    "Based on the hyperparameter search results, it seems like L2 loss achieve better accuracy than using elastic Net regularization, however, the reason behind this observation is not clear to me."
   ]
  },
  {
   "cell_type": "code",
   "execution_count": 31,
   "metadata": {},
   "outputs": [
    {
     "data": {
      "image/png": "[encoded data removed]",
      "text/plain": [
       "<Figure size 720x576 with 10 Axes>"
      ]
     },
     "metadata": {
      "needs_background": "light"
     },
     "output_type": "display_data"
    }
   ],
   "source": [
    "# Visualize the learned weights for each class\n",
    "w = best_softmax.W[:-1,:] # strip out the bias\n",
    "w = w.reshape(32, 32, 3, 10)\n",
    "\n",
    "w_min, w_max = np.min(w), np.max(w)\n",
    "\n",
    "classes = ['plane', 'car', 'bird', 'cat', 'deer', 'dog', 'frog', 'horse', 'ship', 'truck']\n",
    "for i in range(10):\n",
    "    plt.subplot(2, 5, i + 1)\n",
    "    \n",
    "    # Rescale the weights to be between 0 and 255\n",
    "    wimg = 255.0 * (w[:, :, :, i].squeeze() - w_min) / (w_max - w_min)\n",
    "    plt.imshow(wimg.astype('uint8'))\n",
    "    plt.axis('off')\n",
    "    plt.title(classes[i])"
   ]
  },
  {
   "cell_type": "code",
   "execution_count": null,
   "metadata": {},
   "outputs": [],
   "source": []
  }
 ],
 "metadata": {
  "kernelspec": {
   "display_name": "Python 3.9.7",
   "language": "python",
   "name": "python3"
  },
  "language_info": {
   "codemirror_mode": {
    "name": "ipython",
    "version": 3
   },
   "file_extension": ".py",
   "mimetype": "text/x-python",
   "name": "python",
   "nbconvert_exporter": "python",
   "pygments_lexer": "ipython3",
   "version": "3.9.7"
  },
  "vscode": {
   "interpreter": {
    "hash": "40d3a090f54c6569ab1632332b64b2c03c39dcf918b08424e98f38b5ae0af88f"
   }
  }
 },
 "nbformat": 4,
 "nbformat_minor": 4
}
